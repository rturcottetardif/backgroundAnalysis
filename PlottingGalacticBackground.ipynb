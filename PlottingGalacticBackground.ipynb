{
 "cells": [
  {
   "cell_type": "markdown",
   "metadata": {},
   "source": [
    "# Plots the changes in the RMS of the waveforms\n",
    "This should be a measure of the galactic background and we should see an oscillation as the galactic center rotates around the antennas"
   ]
  },
  {
   "cell_type": "code",
   "execution_count": 23,
   "metadata": {},
   "outputs": [],
   "source": [
    "import numpy as np\n",
    "import matplotlib.pyplot as plt\n",
    "import matplotlib.gridspec as gridspec\n",
    "import matplotlib.dates\n",
    "from datetime import datetime"
   ]
  },
  {
   "cell_type": "code",
   "execution_count": 24,
   "metadata": {},
   "outputs": [
    {
     "name": "stdout",
     "output_type": "stream",
     "text": [
      "[Errno 2] No such file or directory: 'data/'\n",
      "/home/rturcotte/work/scripts/crazyIdeas/data\n",
      "total 427450\r\n",
      "-rw-r--r-- 1 rturcotte rturcotte      7798 Mar 22 06:05 2020Q1_DGD.csv\r\n",
      "-rw-r--r-- 1 rturcotte rturcotte      7798 Mar 22 06:05 2020Q2_DGD.csv\r\n",
      "-rw-r--r-- 1 rturcotte rturcotte      7878 Mar 22 06:05 2020Q3_DGD.csv\r\n",
      "-rw-r--r-- 1 rturcotte rturcotte      7878 Mar 22 06:05 2020Q4_DGD.csv\r\n",
      "-rw-rw-r-- 1 rturcotte rturcotte  14931204 May 12 05:16 BG2021.npz\r\n",
      "-rw-rw-r-- 1 rturcotte rturcotte      2589 May 13 08:18 BG2021_cleaned.npz\r\n",
      "-rw-rw-r-- 1 rturcotte rturcotte      3622 May 12 04:02 BGTest.npz\r\n",
      "-rw-rw-r-- 1 rturcotte rturcotte      7122 Mar 26 05:55 averageDay.npz\r\n",
      "-rw-rw-r-- 1 rturcotte rturcotte     36842 Mar  4 04:50 frame_dt_trig.csv\r\n",
      "-rw-rw-r-- 1 rturcotte rturcotte     56702 Mar 15 18:11 frame_dt_trig_corr_20.csv\r\n",
      "-rw-rw-r-- 1 rturcotte rturcotte     13616 Mar 16 05:37 frame_dt_trig_corr_21.csv\r\n",
      "-rw-rw-r-- 1 rturcotte rturcotte     70318 Mar 16 05:44 frame_per_file_combined.csv\r\n",
      "-rw-r--r-- 1 rturcotte rturcotte   1210229 Mar 19 09:28 moon.csv\r\n",
      "-rw-r--r-- 1 rturcotte rturcotte   1106009 Mar 19 15:16 moonlight.csv\r\n",
      "-rw-rw-r-- 1 rturcotte rturcotte      7897 Feb 17 15:49 numberFrames.csv\r\n",
      "-rw-rw-r-- 1 rturcotte rturcotte      3059 Feb 18 05:11 numberFramesScint.csv\r\n",
      "-rw-rw-r-- 1 rturcotte rturcotte      4769 Feb 18 04:03 numberFramesSoft.csv\r\n",
      "-rw-rw-r-- 1 rturcotte rturcotte      9855 Mar  3 06:27 numberFrames_withTime.csv\r\n",
      "-rw-rw-r-- 1 rturcotte rturcotte  51648636 Mar 24 04:28 \u001b[0m\u001b[38;5;9mrate_between_events.tar.gz\u001b[0m\r\n",
      "-rw-rw-r-- 1 rturcotte rturcotte  70592950 Mar 24 06:17 rate_between_events_scint.csv\r\n",
      "-rw-rw-r-- 1 rturcotte rturcotte  28742998 Mar 25 16:19 rate_between_events_scint.npz\r\n",
      "-rw-rw-r-- 1 rturcotte rturcotte 140920582 Mar 24 06:17 rate_between_events_soft.csv\r\n",
      "-rw-rw-r-- 1 rturcotte rturcotte  55241478 Mar 25 16:16 rate_between_events_soft.npz\r\n",
      "-rw-rw-r-- 1 rturcotte rturcotte  67957588 Mar  4 05:48 rois2020.csv\r\n",
      "-rw-rw-r-- 1 rturcotte rturcotte   2710530 Mar  4 03:11 rois2021.csv\r\n",
      "-rw-r--r-- 1 rturcotte rturcotte   1189772 Mar 22 08:32 t2m.csv\r\n"
     ]
    }
   ],
   "source": [
    "%cd data/\n",
    "%ls -l"
   ]
  },
  {
   "cell_type": "markdown",
   "metadata": {},
   "source": [
    "## read the data from the .npz files"
   ]
  },
  {
   "cell_type": "code",
   "execution_count": 25,
   "metadata": {},
   "outputs": [],
   "source": [
    "#data_20 = np.load(\"/home/rturcotte/work/scripts/crazyIdeas/data/BG2020.npz\", allow_pickle=True)\n",
    "data_21 = np.load(\"/home/rturcotte/work/scripts/crazyIdeas/data/BG2021.npz\", allow_pickle=True)"
   ]
  },
  {
   "cell_type": "code",
   "execution_count": 13,
   "metadata": {
    "scrolled": true
   },
   "outputs": [],
   "source": [
    "rms_10, rms_11, rms_20, rms_21, rms_30, rms_31 = [], [], [], [], [], []\n",
    "for i in range(200):#range(len(data_21[\"rms\"])):\n",
    "    rms_10.append(data_21[\"rms\"][i][0])\n",
    "    rms_11.append(data_21[\"rms\"][i][1])\n",
    "    rms_20.append(data_21[\"rms\"][i][2])\n",
    "    rms_21.append(data_21[\"rms\"][i][3])\n",
    "    rms_30.append(data_21[\"rms\"][i][4])\n",
    "    rms_31.append(data_21[\"rms\"][i][5])"
   ]
  },
  {
   "cell_type": "code",
   "execution_count": 28,
   "metadata": {},
   "outputs": [
    {
     "name": "stdout",
     "output_type": "stream",
     "text": [
      "82041\n"
     ]
    }
   ],
   "source": [
    "# np.savez(\"data/BG2021_cleaned.npz\", time=times, rms10=rms_10, rms11=rms_11, rms20=rms_20, rms21=rms_21, rms30=rms_30, rms31=rms_31)\n",
    "print(len(data_21[\"date\"]))"
   ]
  },
  {
   "cell_type": "markdown",
   "metadata": {},
   "source": [
    "## plotting the data"
   ]
  },
  {
   "cell_type": "code",
   "execution_count": 14,
   "metadata": {},
   "outputs": [],
   "source": [
    "dates, b=[], []\n",
    "for i in range(200):\n",
    "    dates.append(np.datetime64(data_21[\"date\"][i]).astype(datetime))\n",
    "    b.append(i)"
   ]
  },
  {
   "cell_type": "code",
   "execution_count": 16,
   "metadata": {},
   "outputs": [
    {
     "data": {
      "text/plain": [
       "(7.803688320892885, 60)"
      ]
     },
     "execution_count": 16,
     "metadata": {},
     "output_type": "execute_result"
    },
    {
     "data": {
      "image/png": "[encoded data removed]",
      "text/plain": [
       "<Figure size 432x288 with 1 Axes>"
      ]
     },
     "metadata": {
      "needs_background": "light"
     },
     "output_type": "display_data"
    }
   ],
   "source": [
    "plt.plot_date(dates,rms_10,marker=\".\")\n",
    "plt.plot_date(dates,rms_11,marker=\".\")\n",
    "plt.plot_date(dates,rms_20,marker=\".\")\n",
    "plt.plot_date(dates,rms_21,marker=\".\")\n",
    "plt.plot_date(dates,rms_30,marker=\".\")\n",
    "plt.plot_date(dates,rms_31,marker=\".\")\n",
    "# a_21[\"date\"][:10]))\n",
    "# plt.plot_date(dates, values)"
   ]
  },
  {
   "cell_type": "code",
   "execution_count": 17,
   "metadata": {},
   "outputs": [
    {
     "name": "stdout",
     "output_type": "stream",
     "text": [
      "[datetime.datetime(2021, 1, 1, 10, 3, 20, 110075), datetime.datetime(2021, 1, 1, 10, 3, 56, 278202), datetime.datetime(2021, 1, 1, 10, 4, 32, 446329), datetime.datetime(2021, 1, 1, 10, 5, 8, 614456), datetime.datetime(2021, 1, 1, 10, 5, 44, 782583), datetime.datetime(2021, 1, 1, 10, 6, 20, 950710), datetime.datetime(2021, 1, 1, 10, 6, 57, 118837), datetime.datetime(2021, 1, 1, 10, 7, 33, 286964), datetime.datetime(2021, 1, 1, 10, 8, 9, 455092), datetime.datetime(2021, 1, 1, 10, 8, 45, 623219), datetime.datetime(2021, 1, 1, 10, 9, 21, 791346), datetime.datetime(2021, 1, 1, 10, 9, 57, 959473), datetime.datetime(2021, 1, 1, 10, 10, 34, 127600), datetime.datetime(2021, 1, 1, 10, 11, 10, 295727), datetime.datetime(2021, 1, 1, 10, 11, 46, 463854), datetime.datetime(2021, 1, 1, 10, 12, 22, 631981), datetime.datetime(2021, 1, 1, 10, 12, 58, 800108), datetime.datetime(2021, 1, 1, 10, 13, 34, 968235), datetime.datetime(2021, 1, 1, 10, 14, 11, 136362), datetime.datetime(2021, 1, 1, 10, 14, 47, 304489), datetime.datetime(2021, 1, 1, 10, 15, 23, 472616), datetime.datetime(2021, 1, 1, 10, 15, 59, 640743), datetime.datetime(2021, 1, 1, 10, 16, 35, 808871), datetime.datetime(2021, 1, 1, 10, 17, 11, 976998), datetime.datetime(2021, 1, 1, 10, 17, 48, 145125), datetime.datetime(2021, 1, 1, 10, 18, 24, 313252), datetime.datetime(2021, 1, 1, 10, 19, 0, 481379), datetime.datetime(2021, 1, 1, 10, 19, 36, 649506), datetime.datetime(2021, 1, 1, 10, 20, 12, 817633), datetime.datetime(2021, 1, 1, 10, 20, 48, 985760), datetime.datetime(2021, 1, 1, 10, 21, 25, 153887), datetime.datetime(2021, 1, 1, 10, 22, 1, 322014), datetime.datetime(2021, 1, 1, 10, 22, 37, 490141), datetime.datetime(2021, 1, 1, 10, 23, 13, 658268), datetime.datetime(2021, 1, 1, 10, 23, 49, 826395), datetime.datetime(2021, 1, 1, 10, 24, 25, 994522), datetime.datetime(2021, 1, 1, 10, 25, 2, 162650), datetime.datetime(2021, 1, 1, 10, 25, 38, 330777), datetime.datetime(2021, 1, 1, 10, 26, 14, 498904), datetime.datetime(2021, 1, 1, 10, 26, 50, 667031), datetime.datetime(2021, 1, 1, 10, 27, 26, 835158), datetime.datetime(2021, 1, 1, 10, 28, 3, 3285), datetime.datetime(2021, 1, 1, 10, 28, 39, 171412), datetime.datetime(2021, 1, 1, 10, 29, 15, 339539), datetime.datetime(2021, 1, 1, 10, 29, 51, 507666), datetime.datetime(2021, 1, 1, 10, 30, 27, 675793), datetime.datetime(2021, 1, 1, 10, 31, 3, 843920), datetime.datetime(2021, 1, 1, 10, 31, 40, 12047), datetime.datetime(2021, 1, 1, 10, 32, 16, 180174), datetime.datetime(2021, 1, 1, 10, 32, 52, 348302), datetime.datetime(2021, 1, 1, 10, 33, 28, 516429), datetime.datetime(2021, 1, 1, 10, 34, 4, 684556), datetime.datetime(2021, 1, 1, 10, 34, 40, 852683), datetime.datetime(2021, 1, 1, 10, 35, 17, 20810), datetime.datetime(2021, 1, 1, 10, 35, 53, 188937), datetime.datetime(2021, 1, 1, 10, 36, 29, 357064), datetime.datetime(2021, 1, 1, 10, 37, 5, 525191), datetime.datetime(2021, 1, 1, 10, 37, 41, 693318), datetime.datetime(2021, 1, 1, 10, 38, 17, 861445), datetime.datetime(2021, 1, 1, 10, 38, 54, 29572), datetime.datetime(2021, 1, 1, 10, 39, 30, 197699), datetime.datetime(2021, 1, 1, 10, 40, 6, 365827), datetime.datetime(2021, 1, 1, 10, 40, 42, 533954), datetime.datetime(2021, 1, 1, 10, 41, 18, 702081), datetime.datetime(2021, 1, 1, 10, 41, 54, 870208), datetime.datetime(2021, 1, 1, 10, 42, 31, 38335), datetime.datetime(2021, 1, 1, 10, 43, 7, 206462), datetime.datetime(2021, 1, 1, 10, 43, 43, 374589), datetime.datetime(2021, 1, 1, 10, 44, 19, 542716), datetime.datetime(2021, 1, 1, 10, 44, 55, 710843), datetime.datetime(2021, 1, 1, 10, 45, 31, 878970), datetime.datetime(2021, 1, 1, 10, 46, 8, 47097), datetime.datetime(2021, 1, 1, 10, 46, 44, 215224), datetime.datetime(2021, 1, 1, 10, 47, 20, 383352), datetime.datetime(2021, 1, 1, 10, 47, 56, 551479), datetime.datetime(2021, 1, 1, 10, 48, 32, 719606), datetime.datetime(2021, 1, 1, 10, 49, 8, 887733), datetime.datetime(2021, 1, 1, 10, 49, 45, 55860), datetime.datetime(2021, 1, 1, 10, 50, 21, 223987), datetime.datetime(2021, 1, 1, 10, 50, 57, 392114), datetime.datetime(2021, 1, 1, 10, 51, 33, 560241), datetime.datetime(2021, 1, 1, 10, 52, 9, 728368), datetime.datetime(2021, 1, 1, 10, 52, 45, 896495), datetime.datetime(2021, 1, 1, 10, 53, 22, 64622), datetime.datetime(2021, 1, 1, 10, 53, 58, 232749), datetime.datetime(2021, 1, 1, 12, 12, 20, 89272), datetime.datetime(2021, 1, 1, 12, 14, 8, 593653), datetime.datetime(2021, 1, 1, 12, 15, 20, 929907), datetime.datetime(2021, 1, 1, 12, 17, 9, 434289), datetime.datetime(2021, 1, 1, 12, 18, 21, 770543), datetime.datetime(2021, 1, 1, 12, 20, 10, 274924), datetime.datetime(2021, 1, 1, 12, 21, 58, 779305), datetime.datetime(2021, 1, 1, 12, 23, 11, 115559), datetime.datetime(2021, 1, 1, 12, 24, 59, 619941), datetime.datetime(2021, 1, 1, 12, 26, 11, 956195), datetime.datetime(2021, 1, 1, 12, 28, 0, 460576), datetime.datetime(2021, 1, 1, 12, 29, 12, 796830), datetime.datetime(2021, 1, 1, 12, 31, 1, 301212), datetime.datetime(2021, 1, 1, 12, 32, 49, 805593), datetime.datetime(2021, 1, 1, 12, 34, 2, 141847), datetime.datetime(2021, 1, 1, 12, 35, 50, 646228), datetime.datetime(2021, 1, 1, 12, 36, 26, 814355), datetime.datetime(2021, 1, 1, 12, 37, 2, 982483), datetime.datetime(2021, 1, 1, 12, 37, 39, 150610), datetime.datetime(2021, 1, 1, 12, 38, 15, 318737), datetime.datetime(2021, 1, 1, 12, 38, 51, 486864), datetime.datetime(2021, 1, 1, 12, 39, 27, 654991), datetime.datetime(2021, 1, 1, 12, 40, 3, 823118), datetime.datetime(2021, 1, 1, 12, 40, 39, 991245), datetime.datetime(2021, 1, 1, 12, 41, 16, 159372), datetime.datetime(2021, 1, 1, 12, 41, 52, 327499), datetime.datetime(2021, 1, 1, 12, 42, 28, 495626), datetime.datetime(2021, 1, 1, 12, 43, 4, 663753), datetime.datetime(2021, 1, 1, 12, 43, 40, 831881), datetime.datetime(2021, 1, 1, 12, 44, 17, 8), datetime.datetime(2021, 1, 1, 12, 44, 53, 168135), datetime.datetime(2021, 1, 1, 12, 45, 29, 336262), datetime.datetime(2021, 1, 1, 12, 46, 5, 504389), datetime.datetime(2021, 1, 1, 12, 46, 41, 672516), datetime.datetime(2021, 1, 1, 12, 47, 17, 840643), datetime.datetime(2021, 1, 1, 12, 47, 54, 8770), datetime.datetime(2021, 1, 1, 12, 48, 30, 176897), datetime.datetime(2021, 1, 1, 12, 49, 6, 345024), datetime.datetime(2021, 1, 1, 12, 49, 42, 513151), datetime.datetime(2021, 1, 1, 12, 50, 18, 681279), datetime.datetime(2021, 1, 1, 12, 50, 54, 849406), datetime.datetime(2021, 1, 1, 12, 51, 31, 17533), datetime.datetime(2021, 1, 1, 12, 52, 7, 185660), datetime.datetime(2021, 1, 1, 12, 52, 43, 353787), datetime.datetime(2021, 1, 1, 12, 53, 19, 521914), datetime.datetime(2021, 1, 1, 12, 53, 55, 690041), datetime.datetime(2021, 1, 1, 12, 54, 31, 858168), datetime.datetime(2021, 1, 1, 12, 55, 8, 26295), datetime.datetime(2021, 1, 1, 12, 55, 44, 194422), datetime.datetime(2021, 1, 1, 12, 56, 20, 362549), datetime.datetime(2021, 1, 1, 12, 56, 56, 530677), datetime.datetime(2021, 1, 1, 12, 57, 32, 698804), datetime.datetime(2021, 1, 1, 12, 58, 8, 866931), datetime.datetime(2021, 1, 1, 12, 58, 45, 35058), datetime.datetime(2021, 1, 1, 12, 59, 21, 203185), datetime.datetime(2021, 1, 1, 12, 59, 57, 371312), datetime.datetime(2021, 1, 1, 13, 0, 33, 539439), datetime.datetime(2021, 1, 1, 13, 1, 9, 707566), datetime.datetime(2021, 1, 1, 13, 1, 45, 875693), datetime.datetime(2021, 1, 1, 13, 2, 22, 43820), datetime.datetime(2021, 1, 1, 13, 2, 58, 211947), datetime.datetime(2021, 1, 1, 13, 3, 34, 380074), datetime.datetime(2021, 1, 1, 13, 4, 10, 548202), datetime.datetime(2021, 1, 1, 13, 4, 46, 716329), datetime.datetime(2021, 1, 1, 13, 5, 22, 884456), datetime.datetime(2021, 1, 1, 13, 5, 59, 52583), datetime.datetime(2021, 1, 1, 13, 6, 35, 220710), datetime.datetime(2021, 1, 1, 13, 7, 11, 388837), datetime.datetime(2021, 1, 1, 13, 7, 47, 556964), datetime.datetime(2021, 1, 1, 13, 8, 23, 725091), datetime.datetime(2021, 1, 1, 13, 8, 59, 893218), datetime.datetime(2021, 1, 1, 13, 9, 36, 61345), datetime.datetime(2021, 1, 1, 13, 10, 12, 229472), datetime.datetime(2021, 1, 1, 13, 10, 48, 397600), datetime.datetime(2021, 1, 1, 13, 11, 24, 565727), datetime.datetime(2021, 1, 1, 13, 12, 0, 733854), datetime.datetime(2021, 1, 1, 13, 12, 36, 901981), datetime.datetime(2021, 1, 1, 13, 13, 13, 70108), datetime.datetime(2021, 1, 1, 13, 13, 49, 238235), datetime.datetime(2021, 1, 1, 13, 14, 25, 406362), datetime.datetime(2021, 1, 1, 13, 15, 1, 574489), datetime.datetime(2021, 1, 1, 13, 15, 37, 742616), datetime.datetime(2021, 1, 1, 13, 16, 13, 910743), datetime.datetime(2021, 1, 1, 13, 16, 50, 78870), datetime.datetime(2021, 1, 1, 13, 17, 26, 246998), datetime.datetime(2021, 1, 1, 13, 18, 2, 415125), datetime.datetime(2021, 1, 1, 13, 18, 38, 583252), datetime.datetime(2021, 1, 1, 13, 19, 14, 751379), datetime.datetime(2021, 1, 1, 13, 19, 50, 919506), datetime.datetime(2021, 1, 1, 13, 20, 27, 87633), datetime.datetime(2021, 1, 1, 13, 21, 3, 255760), datetime.datetime(2021, 1, 1, 13, 21, 39, 423887), datetime.datetime(2021, 1, 1, 13, 22, 15, 592014), datetime.datetime(2021, 1, 1, 13, 22, 51, 760141), datetime.datetime(2021, 1, 1, 13, 23, 27, 928268), datetime.datetime(2021, 1, 1, 13, 24, 4, 96396), datetime.datetime(2021, 1, 1, 13, 24, 40, 264523), datetime.datetime(2021, 1, 1, 13, 25, 16, 432650), datetime.datetime(2021, 1, 1, 13, 25, 52, 600777), datetime.datetime(2021, 1, 1, 13, 26, 28, 768904), datetime.datetime(2021, 1, 1, 13, 27, 4, 937031), datetime.datetime(2021, 1, 1, 13, 27, 41, 105158), datetime.datetime(2021, 1, 1, 13, 28, 17, 273285), datetime.datetime(2021, 1, 1, 13, 28, 53, 441412), datetime.datetime(2021, 1, 1, 13, 29, 29, 609539), datetime.datetime(2021, 1, 1, 13, 30, 5, 777666), datetime.datetime(2021, 1, 1, 13, 30, 41, 945793), datetime.datetime(2021, 1, 1, 13, 31, 18, 113921), datetime.datetime(2021, 1, 1, 13, 31, 54, 282048), datetime.datetime(2021, 1, 1, 13, 32, 30, 450175), datetime.datetime(2021, 1, 1, 13, 33, 6, 618302), datetime.datetime(2021, 1, 1, 13, 33, 42, 786429), datetime.datetime(2021, 1, 1, 13, 34, 18, 954556), datetime.datetime(2021, 1, 1, 13, 34, 55, 122683), datetime.datetime(2021, 1, 1, 13, 35, 31, 290810)]\n"
     ]
    }
   ],
   "source": [
    "print(dates)"
   ]
  },
  {
   "cell_type": "code",
   "execution_count": 20,
   "metadata": {},
   "outputs": [],
   "source": [
    "np.savez(\"/home/rturcotte/work/scripts/crazyIdeas/data/BG2021_cleaned.npz\", time=dates, rms10=rms_10, rms11=rms_11, rms20=rms_20, rms21=rms_21, rms30=rms_30, rms31=rms_31)"
   ]
  },
  {
   "cell_type": "code",
   "execution_count": 21,
   "metadata": {},
   "outputs": [
    {
     "data": {
      "text/plain": [
       "['time', 'rms10', 'rms11', 'rms20', 'rms21', 'rms30', 'rms31']"
      ]
     },
     "execution_count": 21,
     "metadata": {},
     "output_type": "execute_result"
    }
   ],
   "source": [
    "data = np.load(\"/home/rturcotte/work/scripts/crazyIdeas/data/BG2021_cleaned.npz\")\n",
    "data.files"
   ]
  },
  {
   "cell_type": "code",
   "execution_count": 22,
   "metadata": {},
   "outputs": [
    {
     "data": {
      "text/plain": [
       "array([ 21.92261182,  24.97218305, 129.4853353 , 130.1349949 ,\n",
       "       131.39664511,  21.557006  ,  20.22582348,  24.81952155,\n",
       "        20.9038355 ,  20.09713184,  20.98523288,  21.76220961,\n",
       "        23.63103199,  21.81136228,  31.50708809,  21.37188692,\n",
       "        24.05392601,  35.65714248, 131.49796342, 130.18570473,\n",
       "       129.8090507 ,  21.9848859 ,  19.65810712,  21.93175424,\n",
       "        22.12306163,  19.76113534,  22.5236354 ,  20.91466571,\n",
       "        19.30076235,  19.789535  , 130.43011473,  21.37670479,\n",
       "        19.66677823,  21.2030948 , 130.20758697, 133.02823314,\n",
       "       130.85853535,  36.0543395 ,  22.14456995,  20.80609081,\n",
       "        23.79435023,  32.43156113,  33.96405747,  21.65001848,\n",
       "       130.9142975 ,  22.13098541,  21.33142703,  20.62499422,\n",
       "        32.17611209, 131.43350004, 129.10005979, 129.43287154,\n",
       "       132.20268894,  23.14755324,  23.24296156,  21.10590216,\n",
       "        31.35091317,  20.82205743,  21.61822418,  20.59133322,\n",
       "       129.87271227,  21.8487164 ,  23.43967437,  19.9727262 ,\n",
       "        24.07270166, 132.77927965, 129.52651732, 131.94774938,\n",
       "       133.11174922,  22.26038178,  22.73043176,  21.9708941 ,\n",
       "        21.34806877,  21.71173543,  20.10733604,  21.01715517,\n",
       "       130.95890564,  22.42378961,  34.19383985,  21.25379907,\n",
       "        23.18460008, 131.06011189, 130.22123513, 132.42289916,\n",
       "       130.24622839,  21.23042584,  20.28366192,  20.44716975,\n",
       "        22.13886251, 132.13215117,  30.28764166,  21.55312766,\n",
       "        21.03978074,  21.34102435,  20.02348164, 130.92699254,\n",
       "       131.57055474,  21.22870984,  30.05208639, 129.16301118,\n",
       "        21.55974957,  21.57120629, 131.52809524, 130.47541987,\n",
       "       130.71315396, 131.79583175,  22.29110607,  20.42818224,\n",
       "        33.99312007,  20.44083725,  32.16485882,  34.51027579,\n",
       "        21.18374916, 130.40867813,  20.25969694,  21.65845524,\n",
       "        20.56321804,  19.6060574 , 130.5504922 , 133.76186417,\n",
       "       132.67092963, 134.637498  ,  31.58750787,  24.51661718,\n",
       "        21.94931605,  34.60426097,  22.11603332,  18.98781879,\n",
       "       132.27670723, 132.9109224 ,  19.66243086, 133.99367409,\n",
       "        19.42183934,  20.45790182, 131.67077892, 131.83521158,\n",
       "       129.15817936,  21.54730242,  20.76661615,  21.8200029 ,\n",
       "        21.20205523,  19.92640143,  20.42495015,  22.76172236,\n",
       "        20.54670451,  20.38861427,  21.02795707,  20.46298954,\n",
       "        20.76029291,  21.17936996, 131.92484083, 132.90642426,\n",
       "       132.586507  ,  21.64931367,  21.89706113,  20.86065303,\n",
       "        22.35946552,  21.39290919,  20.16725003,  21.80363465,\n",
       "        20.48835136,  31.01553399,  21.75769624,  22.53215966,\n",
       "        20.69623297,  21.21860899, 130.9320954 , 130.50050513,\n",
       "       130.54902993,  21.24967708,  21.35305492,  21.34484594,\n",
       "        20.46316955,  20.55502617,  34.79350596,  21.70727178,\n",
       "       132.89560873,  21.82383413,  21.88649356,  31.24234973,\n",
       "        20.56168178, 130.71495393, 132.06645264, 130.26087381,\n",
       "       130.812427  ,  23.91213818,  36.93842675,  22.27840436,\n",
       "        21.89368778,  19.65899957,  19.83627247,  21.84546599,\n",
       "       129.03305272,  20.00675106,  22.37519223, 132.35893313,\n",
       "        22.44503893, 134.05042179, 130.07595535, 129.30247447])"
      ]
     },
     "execution_count": 22,
     "metadata": {},
     "output_type": "execute_result"
    }
   ],
   "source": []
  },
  {
   "cell_type": "code",
   "execution_count": null,
   "metadata": {},
   "outputs": [],
   "source": []
  }
 ],
 "metadata": {
  "kernelspec": {
   "display_name": "Python 3",
   "language": "python",
   "name": "python3"
  },
  "language_info": {
   "codemirror_mode": {
    "name": "ipython",
    "version": 3
   },
   "file_extension": ".py",
   "mimetype": "text/x-python",
   "name": "python",
   "nbconvert_exporter": "python",
   "pygments_lexer": "ipython3",
   "version": "3.7.5"
  }
 },
 "nbformat": 4,
 "nbformat_minor": 2
}
